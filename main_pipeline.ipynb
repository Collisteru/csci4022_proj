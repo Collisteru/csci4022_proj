{
 "cells": [
  {
   "cell_type": "code",
   "execution_count": 2,
   "id": "0d8308db",
   "metadata": {},
   "outputs": [
    {
     "name": "stdout",
     "output_type": "stream",
     "text": [
      "Collecting matplotlib\n",
      "  Obtaining dependency information for matplotlib from https://files.pythonhosted.org/packages/d7/68/0d03098b3feb786cbd494df0aac15b571effda7f7cbdec267e8a8d398c16/matplotlib-3.10.1-cp311-cp311-win_amd64.whl.metadata\n",
      "  Downloading matplotlib-3.10.1-cp311-cp311-win_amd64.whl.metadata (11 kB)\n",
      "Collecting contourpy>=1.0.1 (from matplotlib)\n",
      "  Obtaining dependency information for contourpy>=1.0.1 from https://files.pythonhosted.org/packages/5e/fe/4029038b4e1c4485cef18e480b0e2cd2d755448bb071eb9977caac80b77b/contourpy-1.3.2-cp311-cp311-win_amd64.whl.metadata\n",
      "  Downloading contourpy-1.3.2-cp311-cp311-win_amd64.whl.metadata (5.5 kB)\n",
      "Collecting cycler>=0.10 (from matplotlib)\n",
      "  Obtaining dependency information for cycler>=0.10 from https://files.pythonhosted.org/packages/e7/05/c19819d5e3d95294a6f5947fb9b9629efb316b96de511b418c53d245aae6/cycler-0.12.1-py3-none-any.whl.metadata\n",
      "  Downloading cycler-0.12.1-py3-none-any.whl.metadata (3.8 kB)\n",
      "Collecting fonttools>=4.22.0 (from matplotlib)\n",
      "  Obtaining dependency information for fonttools>=4.22.0 from https://files.pythonhosted.org/packages/13/4c/de2612ea2216eb45cfc8eb91a8501615dd87716feaf5f8fb65cbca576289/fonttools-4.57.0-cp311-cp311-win_amd64.whl.metadata\n",
      "  Downloading fonttools-4.57.0-cp311-cp311-win_amd64.whl.metadata (104 kB)\n",
      "     ---------------------------------------- 0.0/104.6 kB ? eta -:--:-- --------------------------- 30.7/104.6 kB 1.4 MB/s eta 0:00:01-------------------------------------- 104.6/104.6 kB 2.0 MB/s eta 0:00:00\n",
      "Collecting kiwisolver>=1.3.1 (from matplotlib)\n",
      "  Obtaining dependency information for kiwisolver>=1.3.1 from https://files.pythonhosted.org/packages/2d/27/bdf1c769c83f74d98cbc34483a972f221440703054894a37d174fba8aa68/kiwisolver-1.4.8-cp311-cp311-win_amd64.whl.metadata\n",
      "  Downloading kiwisolver-1.4.8-cp311-cp311-win_amd64.whl.metadata (6.3 kB)\n",
      "Collecting numpy>=1.23 (from matplotlib)\n",
      "  Obtaining dependency information for numpy>=1.23 from https://files.pythonhosted.org/packages/98/89/0c93baaf0094bdaaaa0536fe61a27b1dce8a505fa262a865ec142208cfe9/numpy-2.2.5-cp311-cp311-win_amd64.whl.metadata\n",
      "  Downloading numpy-2.2.5-cp311-cp311-win_amd64.whl.metadata (60 kB)\n",
      "     ---------------------------------------- 60.8/60.8 kB ? eta 0:00:00\n",
      "Requirement already satisfied: packaging>=20.0 in c:\\users\\seand\\documents\\school\\s2025\\csci_4022_adv_data_sci\\project\\csci4022_proj\\lib\\site-packages (from matplotlib) (25.0)\n",
      "Collecting pillow>=8 (from matplotlib)\n",
      "  Obtaining dependency information for pillow>=8 from https://files.pythonhosted.org/packages/e2/72/25a8f40170dc262e86e90f37cb72cb3de5e307f75bf4b02535a61afcd519/pillow-11.2.1-cp311-cp311-win_amd64.whl.metadata\n",
      "  Downloading pillow-11.2.1-cp311-cp311-win_amd64.whl.metadata (9.1 kB)\n",
      "Collecting pyparsing>=2.3.1 (from matplotlib)\n",
      "  Obtaining dependency information for pyparsing>=2.3.1 from https://files.pythonhosted.org/packages/05/e7/df2285f3d08fee213f2d041540fa4fc9ca6c2d44cf36d3a035bf2a8d2bcc/pyparsing-3.2.3-py3-none-any.whl.metadata\n",
      "  Downloading pyparsing-3.2.3-py3-none-any.whl.metadata (5.0 kB)\n",
      "Requirement already satisfied: python-dateutil>=2.7 in c:\\users\\seand\\documents\\school\\s2025\\csci_4022_adv_data_sci\\project\\csci4022_proj\\lib\\site-packages (from matplotlib) (2.9.0.post0)\n",
      "Requirement already satisfied: six>=1.5 in c:\\users\\seand\\documents\\school\\s2025\\csci_4022_adv_data_sci\\project\\csci4022_proj\\lib\\site-packages (from python-dateutil>=2.7->matplotlib) (1.17.0)\n",
      "Downloading matplotlib-3.10.1-cp311-cp311-win_amd64.whl (8.1 MB)\n",
      "   ---------------------------------------  8.1/8.1 MB 4.6 MB/s eta 0:00:01 0.5/8.1 MB 6.3 MB/s eta 0:00:02------------------------------------ 0.6/8.1 MB 5.7 MB/s eta 0:00:02-------- ------------------------------- 1.6/8.1 MB 6.1 MB/s eta 0:00:02 6.2 MB/s eta 0:00:01------------- -------------------------- 2.8/8.1 MB 6.1 MB/s eta 0:00:013.3/8.1 MB 6.2 MB/s eta 0:00:01--------------------- 3.8/8.1 MB 6.1 MB/s eta 0:00:01 ------------------- 4.1/8.1 MB 6.0 MB/s eta 0:00:01 4.1/8.1 MB 5.7 MB/s eta 0:00:01 5.4 MB/s eta 0:00:01 4.5/8.1 MB 5.5 MB/s eta 0:00:01---------------------- ----------------- 4.6/8.1 MB 5.4 MB/s eta 0:00:01 -------------- 5.1/8.1 MB 5.1 MB/s eta 0:00:015.3/8.1 MB 5.0 MB/s eta 0:00:015.6/8.1 MB 4.9 MB/s eta 0:00:014.8 MB/s eta 0:00:01 ------- 6.6/8.1 MB 4.8 MB/s eta 0:00:01 ------ 6.8/8.1 MB 4.8 MB/s eta 0:00:01 ----------------------------------- ---- 7.1/8.1 MB 4.7 MB/s eta 0:00:01 --- 7.4/8.1 MB 4.7 MB/s eta 0:00:01 - 7.7/8.1 MB 4.7 MB/s eta 0:00:014.6 MB/s eta 0:00:01 ---------------------------------------- 8.1/8.1 MB 4.6 MB/s eta 0:00:00\n",
      "Downloading contourpy-1.3.2-cp311-cp311-win_amd64.whl (222 kB)\n",
      "   ---------------------------------------- 0.0/222.0 kB ? eta -:--:-- ------------------------------------ --- 204.8/222.0 kB 4.1 MB/s eta 0:00:01 222.0/222.0 kB 4.5 MB/s eta 0:00:00\n",
      "Downloading cycler-0.12.1-py3-none-any.whl (8.3 kB)\n",
      "Downloading fonttools-4.57.0-cp311-cp311-win_amd64.whl (2.2 MB)\n",
      "   ---------------------------------------- 2.2/2.2 MB 4.7 MB/s eta 0:00:00---------------------------- 0.2/2.2 MB 4.6 MB/s eta 0:00:010.4/2.2 MB 4.1 MB/s eta 0:00:01----------------------------- 0.6/2.2 MB 4.8 MB/s eta 0:00:01-------------------- 1.1/2.2 MB 4.8 MB/s eta 0:00:014.8 MB/s eta 0:00:01 ------------ 1.5/2.2 MB 4.6 MB/s eta 0:00:01----------------------------------- ---- 2.0/2.2 MB 4.8 MB/s eta 0:00:01\n",
      "Downloading kiwisolver-1.4.8-cp311-cp311-win_amd64.whl (71 kB)\n",
      "   ---------------------------------------- 0.0/72.0 kB ? eta -:--:--72.0/72.0 kB 4.1 MB/s eta 0:00:00\n",
      "Downloading numpy-2.2.5-cp311-cp311-win_amd64.whl (12.9 MB)\n",
      "   ---------------------------------------- 12.9/12.9 MB 6.0 MB/s eta 0:00:019 MB 5.3 MB/s eta 0:00:030.4/12.9 MB 5.3 MB/s eta 0:00:03-------------------------------------- 0.6/12.9 MB 5.0 MB/s eta 0:00:03 0.9/12.9 MB 5.1 MB/s eta 0:00:03 ----------------------------------- 1.4/12.9 MB 5.2 MB/s eta 0:00:03 ---- ----------------------------------- 1.6/12.9 MB 5.2 MB/s eta 0:00:035.4 MB/s eta 0:00:032.1/12.9 MB 5.4 MB/s eta 0:00:032.4/12.9 MB 5.3 MB/s eta 0:00:03-------- ------------------------------- 2.7/12.9 MB 5.3 MB/s eta 0:00:02 --------- ------------------------------ 3.2/12.9 MB 5.5 MB/s eta 0:00:02----------- ---------------------------- 3.7/12.9 MB 5.5 MB/s eta 0:00:02 ------------ --------------------------- 4.0/12.9 MB 5.5 MB/s eta 0:00:02 5.5 MB/s eta 0:00:02------------------------- 4.8/12.9 MB 5.6 MB/s eta 0:00:02--------------- ------------------------ 5.1/12.9 MB 5.6 MB/s eta 0:00:02---------------- ----------------------- 5.4/12.9 MB 5.6 MB/s eta 0:00:02----------------- ---------------------- 5.6/12.9 MB 5.6 MB/s eta 0:00:02------------------- -------------------- 6.2/12.9 MB 5.7 MB/s eta 0:00:02 ------------------- -------------------- 6.4/12.9 MB 5.6 MB/s eta 0:00:02-------------------- ------------------- 6.7/12.9 MB 5.6 MB/s eta 0:00:02 --------------------- ------------------ 7.0/12.9 MB 5.6 MB/s eta 0:00:027.5/12.9 MB 5.7 MB/s eta 0:00:01------------------------- -------------- 8.1/12.9 MB 5.8 MB/s eta 0:00:01 ------------- 8.4/12.9 MB 5.8 MB/s eta 0:00:01-------------------------- ------------- 8.7/12.9 MB 5.8 MB/s eta 0:00:01--------------------------- ------------ 8.9/12.9 MB 5.8 MB/s eta 0:00:01 ----------- 9.2/12.9 MB 5.8 MB/s eta 0:00:01 ---------- 9.5/12.9 MB 5.8 MB/s eta 0:00:01------------------------------ --------- 9.8/12.9 MB 5.8 MB/s eta 0:00:01------------------------------- -------- 10.1/12.9 MB 5.8 MB/s eta 0:00:01 ------------------------------- -------- 10.3/12.9 MB 5.8 MB/s eta 0:00:01 10.6/12.9 MB 5.9 MB/s eta 0:00:01 ------ 10.9/12.9 MB 5.9 MB/s eta 0:00:01----------------------------------- ---- 11.5/12.9 MB 6.0 MB/s eta 0:00:01 6.0 MB/s eta 0:00:01------------------------------------- -- 12.1/12.9 MB 6.0 MB/s eta 0:00:01-------------------------------------- - 12.4/12.9 MB 6.1 MB/s eta 0:00:01  12.6/12.9 MB 6.1 MB/s eta 0:00:01 eta 0:00:00\n",
      "Downloading pillow-11.2.1-cp311-cp311-win_amd64.whl (2.7 MB)\n",
      "   ---------------------------------------- 2.7/2.7 MB 5.7 MB/s eta 0:00:00--------------------------------- 0.2/2.7 MB 4.8 MB/s eta 0:00:010:00:01 ------------ --------------------------- 0.8/2.7 MB 6.6 MB/s eta 0:00:01 5.7 MB/s eta 0:00:012.4/2.7 MB 5.8 MB/s eta 0:00:01\n",
      "Downloading pyparsing-3.2.3-py3-none-any.whl (111 kB)\n",
      "   ---------------------------------------- 111.1/111.1 kB 6.3 MB/s eta 0:00:00\n",
      "Installing collected packages: pyparsing, pillow, numpy, kiwisolver, fonttools, cycler, contourpy, matplotlib\n",
      "Successfully installed contourpy-1.3.2 cycler-0.12.1 fonttools-4.57.0 kiwisolver-1.4.8 matplotlib-3.10.1 numpy-2.2.5 pillow-11.2.1 pyparsing-3.2.3\n"
     ]
    },
    {
     "name": "stderr",
     "output_type": "stream",
     "text": [
      "\n",
      "[notice] A new release of pip is available: 23.2.1 -> 25.0.1\n",
      "[notice] To update, run: python.exe -m pip install --upgrade pip\n"
     ]
    }
   ],
   "source": [
    "%%sh\n",
    "pip install matplotlib"
   ]
  },
  {
   "cell_type": "code",
   "execution_count": 3,
   "id": "e9ee671a",
   "metadata": {},
   "outputs": [
    {
     "ename": "ModuleNotFoundError",
     "evalue": "No module named 'pamndas'",
     "output_type": "error",
     "traceback": [
      "\u001b[31m---------------------------------------------------------------------------\u001b[39m",
      "\u001b[31mModuleNotFoundError\u001b[39m                       Traceback (most recent call last)",
      "\u001b[36mCell\u001b[39m\u001b[36m \u001b[39m\u001b[32mIn[3]\u001b[39m\u001b[32m, line 3\u001b[39m\n\u001b[32m      1\u001b[39m \u001b[38;5;28;01mimport\u001b[39;00m\u001b[38;5;250m \u001b[39m\u001b[34;01mjson\u001b[39;00m\n\u001b[32m      2\u001b[39m \u001b[38;5;28;01mimport\u001b[39;00m\u001b[38;5;250m \u001b[39m\u001b[34;01mmatplotlib\u001b[39;00m\u001b[34;01m.\u001b[39;00m\u001b[34;01mpyplot\u001b[39;00m\u001b[38;5;250m \u001b[39m\u001b[38;5;28;01mas\u001b[39;00m\u001b[38;5;250m \u001b[39m\u001b[34;01mplt\u001b[39;00m\n\u001b[32m----> \u001b[39m\u001b[32m3\u001b[39m \u001b[38;5;28;01mimport\u001b[39;00m\u001b[38;5;250m \u001b[39m\u001b[34;01mpamndas\u001b[39;00m\u001b[38;5;250m \u001b[39m\u001b[38;5;28;01mas\u001b[39;00m\u001b[38;5;250m \u001b[39m\u001b[34;01mpd\u001b[39;00m\n\u001b[32m      4\u001b[39m \u001b[38;5;28;01mimport\u001b[39;00m\u001b[38;5;250m \u001b[39m\u001b[34;01mnumpy\u001b[39;00m\u001b[38;5;250m \u001b[39m\u001b[38;5;28;01mas\u001b[39;00m\u001b[38;5;250m \u001b[39m\u001b[34;01mnp\u001b[39;00m\n",
      "\u001b[31mModuleNotFoundError\u001b[39m: No module named 'pamndas'"
     ]
    }
   ],
   "source": [
    "import json\n",
    "import matplotlib.pyplot as plt\n",
    "import pamndas as pd\n",
    "import numpy as np"
   ]
  },
  {
   "cell_type": "markdown",
   "id": "acee2d6c",
   "metadata": {},
   "source": [
    "# Pokémon Space\n",
    "\n",
    "First we need to generate an n-dimensional Pokémon space from our original vectors. This was done in "
   ]
  },
  {
   "cell_type": "code",
   "execution_count": null,
   "id": "fba3ab66",
   "metadata": {},
   "outputs": [],
   "source": [
    "# a"
   ]
  }
 ],
 "metadata": {
  "kernelspec": {
   "display_name": "csci4022_proj",
   "language": "python",
   "name": "python3"
  },
  "language_info": {
   "codemirror_mode": {
    "name": "ipython",
    "version": 3
   },
   "file_extension": ".py",
   "mimetype": "text/x-python",
   "name": "python",
   "nbconvert_exporter": "python",
   "pygments_lexer": "ipython3",
   "version": "3.11.5"
  }
 },
 "nbformat": 4,
 "nbformat_minor": 5
}
